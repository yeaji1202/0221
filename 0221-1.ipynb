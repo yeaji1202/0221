{
 "cells": [
  {
   "cell_type": "code",
   "execution_count": 1,
   "id": "7bdc1dcf",
   "metadata": {},
   "outputs": [
    {
     "name": "stdout",
     "output_type": "stream",
     "text": [
      "Hello,World\n"
     ]
    }
   ],
   "source": [
    "print('Hello,World')"
   ]
  },
  {
   "cell_type": "code",
   "execution_count": 1,
   "id": "d6df3757",
   "metadata": {},
   "outputs": [
    {
     "name": "stdout",
     "output_type": "stream",
     "text": [
      "name : 한지민\n",
      "Your name is 한지민 ...\n"
     ]
    }
   ],
   "source": [
    "name =input ('name : ')\n",
    "print ('Your name is',name,'...')"
   ]
  },
  {
   "cell_type": "code",
   "execution_count": null,
   "id": "d926b5b4",
   "metadata": {},
   "outputs": [],
   "source": [
    "num1 = 50\n",
    "num2 = 100"
   ]
  },
  {
   "cell_type": "code",
   "execution_count": null,
   "id": "7db04e57",
   "metadata": {},
   "outputs": [],
   "source": [
    "print(num1,'+',num2,'=',(num1+num2))\n",
    "print(num1,'-',num2,'=',(num1-num2))\n",
    "print(num1,'x',num2,'=',(num1*num2))\n",
    "print(num1,'/',num2,'=',(num1/num2))\n",
    "print(num1,'//',num2,'=',(num1//num2))\n",
    "print(num1,'%',num2,'=',(num1%num2))\n"
   ]
  },
  {
   "cell_type": "code",
   "execution_count": null,
   "id": "6c9bb53f",
   "metadata": {},
   "outputs": [],
   "source": [
    "width = int(input('사각형의 가로 : '))\n",
    "height = int(input('사각형의 세로 : '))\n",
    "print(('사각형의 넓이는 %d 입니다.') % (width * height))"
   ]
  },
  {
   "cell_type": "code",
   "execution_count": null,
   "id": "09967933",
   "metadata": {},
   "outputs": [],
   "source": []
  }
 ],
 "metadata": {
  "kernelspec": {
   "display_name": "Python 3 (ipykernel)",
   "language": "python",
   "name": "python3"
  },
  "language_info": {
   "codemirror_mode": {
    "name": "ipython",
    "version": 3
   },
   "file_extension": ".py",
   "mimetype": "text/x-python",
   "name": "python",
   "nbconvert_exporter": "python",
   "pygments_lexer": "ipython3",
   "version": "3.10.6"
  }
 },
 "nbformat": 4,
 "nbformat_minor": 5
}
